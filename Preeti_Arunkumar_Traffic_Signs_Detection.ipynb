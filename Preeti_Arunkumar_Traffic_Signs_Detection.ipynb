{
 "cells": [
  {
   "cell_type": "code",
   "execution_count": 1,
   "metadata": {},
   "outputs": [],
   "source": [
    "#importing the needed libraries\n",
    "\n",
    "import numpy as np \n",
    "import pandas as pd \n",
    "import matplotlib.pyplot as plt\n",
    "import cv2\n",
    "import tensorflow as tf\n",
    "from PIL import Image\n",
    "import os\n",
    "from sklearn.model_selection import train_test_split\n",
    "from keras.utils import to_categorical\n",
    "from keras.models import Sequential, load_model\n",
    "from keras.layers import Conv2D, MaxPool2D, Dense, Flatten, Dropout"
   ]
  },
  {
   "cell_type": "markdown",
   "metadata": {},
   "source": [
    "## Data Preprocessing"
   ]
  },
  {
   "cell_type": "code",
   "execution_count": 2,
   "metadata": {},
   "outputs": [],
   "source": [
    "#creating the needed variables\n",
    "\n",
    "data = []                   #creating a empty list named data\n",
    "labels = []                 #creating a empty list named labels\n",
    "classes = 43                #as we have 43 different traffic signals to be classsified we take classes as 43\n",
    "current_path = os.getcwd()  #this sets the current working directory to the variable current_path"
   ]
  },
  {
   "cell_type": "code",
   "execution_count": 3,
   "metadata": {},
   "outputs": [],
   "source": [
    "#Retrieving the images and their labels \n",
    "\n",
    "for i in range(classes):\n",
    "    path = os.path.join(current_path,'train',str(i)) #we join the paths of each image to the current path which \n",
    "    images = os.listdir(path)                        #is inside the \"train\" folder\n",
    "\n",
    "    for a in images:\n",
    "        try:\n",
    "            image = Image.open(path + '\\\\'+ a)\n",
    "            image = image.resize((30,30))            #resizing the image\n",
    "            image = np.array(image)                  #converting the image into an array\n",
    "            data.append(image)                       #appending the array to data list\n",
    "            labels.append(i)                         #appending the array to label list\n",
    "        except:\n",
    "            print(\"Error loading image\")"
   ]
  },
  {
   "cell_type": "code",
   "execution_count": 4,
   "metadata": {},
   "outputs": [
    {
     "name": "stdout",
     "output_type": "stream",
     "text": [
      "(39209, 30, 30, 3) (39209,)\n"
     ]
    }
   ],
   "source": [
    "#Converting lists into numpy arrays\n",
    "\n",
    "data = np.array(data)\n",
    "labels = np.array(labels)\n",
    "print(data.shape, labels.shape)"
   ]
  },
  {
   "cell_type": "code",
   "execution_count": 5,
   "metadata": {},
   "outputs": [
    {
     "name": "stdout",
     "output_type": "stream",
     "text": [
      "(31367, 30, 30, 3) (7842, 30, 30, 3) (31367,) (7842,)\n"
     ]
    }
   ],
   "source": [
    "#Splitting training and testing dataset\n",
    "\n",
    "X_train, X_test, y_train, y_test = train_test_split(data, labels, test_size=0.2, random_state=42)\n",
    "print(X_train.shape, X_test.shape, y_train.shape, y_test.shape)"
   ]
  },
  {
   "cell_type": "code",
   "execution_count": 6,
   "metadata": {},
   "outputs": [],
   "source": [
    "#Converting the labels into one hot encoding\n",
    "\n",
    "y_train = to_categorical(y_train, 43)\n",
    "y_test = to_categorical(y_test, 43)"
   ]
  },
  {
   "cell_type": "markdown",
   "metadata": {},
   "source": [
    "## Building a model"
   ]
  },
  {
   "cell_type": "code",
   "execution_count": 7,
   "metadata": {},
   "outputs": [],
   "source": [
    "#Building a model\n",
    "\n",
    "model = Sequential()\n",
    "model.add(Conv2D(filters=32, kernel_size=(5,5), activation='relu', input_shape=X_train.shape[1:], name=\"CovolutionLayer1\"))\n",
    "model.add(Conv2D(filters=32, kernel_size=(5,5), activation='relu',name=\"CovolutionLayer2\"))\n",
    "model.add(MaxPool2D(pool_size=(2, 2),name=\"MaxpoolingLayer3\"))\n",
    "model.add(Dropout(rate=0.25,name=\"Drop\"))\n",
    "model.add(Conv2D(filters=64, kernel_size=(3, 3), activation='relu', name=\"CovolutionLayer4\"))\n",
    "model.add(Conv2D(filters=64, kernel_size=(3, 3), activation='relu',name=\"CovolutionLayer5\"))\n",
    "model.add(MaxPool2D(pool_size=(2, 2),name=\"MaxpoolingLayer6\"))\n",
    "model.add(Dropout(rate=0.25,name=\"Drop2\"))\n",
    "model.add(Flatten(name=\"Flat\"))\n",
    "model.add(Dense(256, activation='relu',name=\"Dense7\"))\n",
    "model.add(Dropout(rate=0.5,name=\"Drop3\"))\n",
    "model.add(Dense(43, activation='softmax', name=\"Final\"))\n",
    "\n",
    "#Compilation of the model\n",
    "\n",
    "model.compile(loss='categorical_crossentropy', optimizer='adam', metrics=['accuracy'])\n"
   ]
  },
  {
   "cell_type": "code",
   "execution_count": 12,
   "metadata": {},
   "outputs": [
    {
     "name": "stdout",
     "output_type": "stream",
     "text": [
      "Epoch 1/15\n",
      "981/981 [==============================] - 93s 95ms/step - loss: 1.9516 - accuracy: 0.4911 - val_loss: 0.6015 - val_accuracy: 0.8632\n",
      "Epoch 2/15\n",
      "981/981 [==============================] - 88s 90ms/step - loss: 0.6919 - accuracy: 0.7941 - val_loss: 0.1921 - val_accuracy: 0.9485\n",
      "Epoch 3/15\n",
      "981/981 [==============================] - 89s 90ms/step - loss: 0.4363 - accuracy: 0.8710 - val_loss: 0.1435 - val_accuracy: 0.9656\n",
      "Epoch 4/15\n",
      "981/981 [==============================] - 88s 90ms/step - loss: 0.3720 - accuracy: 0.8939 - val_loss: 0.1953 - val_accuracy: 0.9537\n",
      "Epoch 5/15\n",
      "981/981 [==============================] - 88s 89ms/step - loss: 0.3042 - accuracy: 0.9114 - val_loss: 0.0836 - val_accuracy: 0.9762\n",
      "Epoch 6/15\n",
      "981/981 [==============================] - 99s 101ms/step - loss: 0.2818 - accuracy: 0.9209 - val_loss: 0.0936 - val_accuracy: 0.9725\n",
      "Epoch 7/15\n",
      "981/981 [==============================] - 96s 98ms/step - loss: 0.2740 - accuracy: 0.9226 - val_loss: 0.0709 - val_accuracy: 0.9790\n",
      "Epoch 8/15\n",
      "981/981 [==============================] - 114s 116ms/step - loss: 0.2564 - accuracy: 0.9289 - val_loss: 0.0642 - val_accuracy: 0.9816\n",
      "Epoch 9/15\n",
      "981/981 [==============================] - 110s 113ms/step - loss: 0.2571 - accuracy: 0.9294 - val_loss: 0.0705 - val_accuracy: 0.9825\n",
      "Epoch 10/15\n",
      "981/981 [==============================] - 103s 105ms/step - loss: 0.2218 - accuracy: 0.9386 - val_loss: 0.0633 - val_accuracy: 0.9821\n",
      "Epoch 11/15\n",
      "981/981 [==============================] - 101s 103ms/step - loss: 0.2202 - accuracy: 0.9366 - val_loss: 0.0587 - val_accuracy: 0.9850\n",
      "Epoch 12/15\n",
      "981/981 [==============================] - 106s 108ms/step - loss: 0.2223 - accuracy: 0.9404 - val_loss: 0.0466 - val_accuracy: 0.9856\n",
      "Epoch 13/15\n",
      "981/981 [==============================] - 113s 116ms/step - loss: 0.2231 - accuracy: 0.9403 - val_loss: 0.0606 - val_accuracy: 0.9823\n",
      "Epoch 14/15\n",
      "981/981 [==============================] - 95s 97ms/step - loss: 0.2326 - accuracy: 0.9385 - val_loss: 0.0619 - val_accuracy: 0.9811\n",
      "Epoch 15/15\n",
      "981/981 [==============================] - 99s 101ms/step - loss: 0.2330 - accuracy: 0.9377 - val_loss: 0.0602 - val_accuracy: 0.9857\n"
     ]
    }
   ],
   "source": [
    "#training the model\n",
    "\n",
    "epochs = 15\n",
    "history = model.fit(X_train, y_train, batch_size=32, epochs=epochs, validation_data=(X_test, y_test))"
   ]
  },
  {
   "cell_type": "markdown",
   "metadata": {},
   "source": [
    "## Evaluation of the model"
   ]
  },
  {
   "cell_type": "code",
   "execution_count": 13,
   "metadata": {},
   "outputs": [
    {
     "data": {
      "image/png": "[encoded data removed]",
      "text/plain": [
       "<Figure size 432x288 with 1 Axes>"
      ]
     },
     "metadata": {
      "needs_background": "light"
     },
     "output_type": "display_data"
    }
   ],
   "source": [
    "#Checking the training accuracy and the validation accuracy\n",
    "\n",
    "plt.figure(0)\n",
    "plt.plot(history.history['accuracy'], label='training accuracy')\n",
    "plt.plot(history.history['val_accuracy'], label='val accuracy')\n",
    "plt.title('Accuracy')\n",
    "plt.xlabel('epochs')\n",
    "plt.ylabel('accuracy')\n",
    "plt.legend()\n",
    "plt.show()"
   ]
  },
  {
   "cell_type": "code",
   "execution_count": 14,
   "metadata": {},
   "outputs": [
    {
     "data": {
      "image/png": "[encoded data removed]",
      "text/plain": [
       "<Figure size 432x288 with 1 Axes>"
      ]
     },
     "metadata": {
      "needs_background": "light"
     },
     "output_type": "display_data"
    }
   ],
   "source": [
    "#Checking the training loss versus the validation loss\n",
    "\n",
    "plt.figure(1)\n",
    "plt.plot(history.history['loss'], label='training loss')\n",
    "plt.plot(history.history['val_loss'], label='val loss')\n",
    "plt.title('Loss')\n",
    "plt.xlabel('epochs')\n",
    "plt.ylabel('loss')\n",
    "plt.legend()\n",
    "plt.show()"
   ]
  },
  {
   "cell_type": "markdown",
   "metadata": {},
   "source": [
    "**As the validation accuracy and the training accuracy are parallel and does not decrease/increase we can take this as the best fit**"
   ]
  },
  {
   "cell_type": "markdown",
   "metadata": {},
   "source": [
    "## Prediction"
   ]
  },
  {
   "cell_type": "code",
   "execution_count": 15,
   "metadata": {},
   "outputs": [],
   "source": [
    "#converting test images into an array \n",
    "\n",
    "y_test = pd.read_csv('Test.csv')\n",
    "labels = y_test[\"ClassId\"].values\n",
    "imgs = y_test[\"Path\"].values\n",
    "data=[]\n",
    "\n",
    "for img in imgs:\n",
    "    image = Image.open(img)\n",
    "    image = image.resize((30,30))\n",
    "    data.append(np.array(image))\n",
    "X_test=np.array(data)"
   ]
  },
  {
   "cell_type": "code",
   "execution_count": 36,
   "metadata": {},
   "outputs": [
    {
     "name": "stdout",
     "output_type": "stream",
     "text": [
      "Y_pred = [1] and Y_true = 1\n"
     ]
    }
   ],
   "source": [
    "#Checking the actual label and predicted label of one specific image\n",
    "\n",
    "y_pred = model.predict_classes(np.expand_dims(X_test[100], axis=0))\n",
    "print('Y_pred = {} and Y_true = {}'.format(y_pred, labels[100]))"
   ]
  },
  {
   "cell_type": "code",
   "execution_count": 39,
   "metadata": {},
   "outputs": [],
   "source": [
    "#predictions of all the data\n",
    "\n",
    "pred = model.predict_classes(X_test)"
   ]
  },
  {
   "cell_type": "markdown",
   "metadata": {},
   "source": [
    "## Accuracy of the model"
   ]
  },
  {
   "cell_type": "code",
   "execution_count": 40,
   "metadata": {},
   "outputs": [
    {
     "name": "stdout",
     "output_type": "stream",
     "text": [
      "0.9463182897862232\n"
     ]
    }
   ],
   "source": [
    "#checking the accuracy of the model\n",
    "\n",
    "from sklearn.metrics import accuracy_score\n",
    "print(accuracy_score(labels, pred))"
   ]
  }
 ],
 "metadata": {
  "kernelspec": {
   "display_name": "Python 3",
   "language": "python",
   "name": "python3"
  },
  "language_info": {
   "codemirror_mode": {
    "name": "ipython",
    "version": 3
   },
   "file_extension": ".py",
   "mimetype": "text/x-python",
   "name": "python",
   "nbconvert_exporter": "python",
   "pygments_lexer": "ipython3",
   "version": "3.8.3"
  }
 },
 "nbformat": 4,
 "nbformat_minor": 4
}
